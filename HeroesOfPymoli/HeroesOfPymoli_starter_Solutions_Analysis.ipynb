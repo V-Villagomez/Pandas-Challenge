{
 "cells": [
  {
   "cell_type": "markdown",
   "metadata": {},
   "source": [
    "## Heroes Of Pymoli Data Analysis\n",
    "* Of the 1163 active players, the vast majority are male (84%). There also exists, a smaller, but notable proportion of female players (14%).\n",
    "\n",
    "* Our peak age demographic falls between 20-24 (44.8%) with secondary groups falling between 15-19 (18.60%) and 25-29 (13.4%).  \n",
    "\n",
    "#### In addition to the above analysis, the following three observations were determined based on the data:\n",
    "\n",
    "1. Based on gender purchasing analysis, while the percentage of female players is less in comparsion to male players, females are willing to pay higher prices with an average total purchase of \\\\$4.47 per person, approximately a 10% difference compared to males who average a total of \\\\$4.07 per person.  \n",
    "\n",
    "2. Based on age purchasing analysis, the demographic age group of 20-24 years purchase the most items, a purchase count of 365, a total purchase value of \\\\$1,114.06, compared to all other age groups with the age group of 15-19 falling second with a purchase count of 136, a total purchase value of \\\\$412.89. It is no surprise as the peak age demographic falls between ages 20-24 with the secondary group falling between 15-19 as stated earlier. \n",
    "\n",
    "3. Also, in further reviewing the age purchase analysis, the age group of 35-39, while not the most active age group, are whiling to spend more on average total purchase per person in the amount of \\\\$4.76 compared to other average total purchase per person in other age groups. Those ten years or younger, would fall second with an average total purchase of \\\\$4.54. \n",
    "\n",
    "#### Based on the further described observations, it is recommended that we increase marketing efforts to attract more players within the age groups of 10 years or younger and 35-39. With these increased marketing efforts, it is projected that we'll increase active players within these said age groups, thus increasing our revenue for purchased items.   \n",
    "-----"
   ]
  },
  {
   "cell_type": "markdown",
   "metadata": {},
   "source": [
    "### Note\n",
    "* Instructions have been included for each segment. You do not have to follow them exactly, but they are included to help you think through the steps."
   ]
  },
  {
   "cell_type": "code",
   "execution_count": 318,
   "metadata": {},
   "outputs": [],
   "source": [
    "# Dependencies and Setup\n",
    "import pandas as pd\n",
    "\n",
    "# File to Load (Remember to Change These)\n",
    "file_to_load = \"Resources/purchase_data.csv\"\n",
    "\n",
    "# Read Purchasing File and store into Pandas data frame\n",
    "purchase_data = pd.read_csv(file_to_load)"
   ]
  },
  {
   "cell_type": "code",
   "execution_count": 319,
   "metadata": {},
   "outputs": [
    {
     "data": {
      "text/html": [
       "<div>\n",
       "<style scoped>\n",
       "    .dataframe tbody tr th:only-of-type {\n",
       "        vertical-align: middle;\n",
       "    }\n",
       "\n",
       "    .dataframe tbody tr th {\n",
       "        vertical-align: top;\n",
       "    }\n",
       "\n",
       "    .dataframe thead th {\n",
       "        text-align: right;\n",
       "    }\n",
       "</style>\n",
       "<table border=\"1\" class=\"dataframe\">\n",
       "  <thead>\n",
       "    <tr style=\"text-align: right;\">\n",
       "      <th></th>\n",
       "      <th>Purchase ID</th>\n",
       "      <th>SN</th>\n",
       "      <th>Age</th>\n",
       "      <th>Gender</th>\n",
       "      <th>Item ID</th>\n",
       "      <th>Item Name</th>\n",
       "      <th>Price</th>\n",
       "    </tr>\n",
       "  </thead>\n",
       "  <tbody>\n",
       "    <tr>\n",
       "      <th>0</th>\n",
       "      <td>0</td>\n",
       "      <td>Lisim78</td>\n",
       "      <td>20</td>\n",
       "      <td>Male</td>\n",
       "      <td>108</td>\n",
       "      <td>Extraction, Quickblade Of Trembling Hands</td>\n",
       "      <td>3.53</td>\n",
       "    </tr>\n",
       "    <tr>\n",
       "      <th>1</th>\n",
       "      <td>1</td>\n",
       "      <td>Lisovynya38</td>\n",
       "      <td>40</td>\n",
       "      <td>Male</td>\n",
       "      <td>143</td>\n",
       "      <td>Frenzied Scimitar</td>\n",
       "      <td>1.56</td>\n",
       "    </tr>\n",
       "    <tr>\n",
       "      <th>2</th>\n",
       "      <td>2</td>\n",
       "      <td>Ithergue48</td>\n",
       "      <td>24</td>\n",
       "      <td>Male</td>\n",
       "      <td>92</td>\n",
       "      <td>Final Critic</td>\n",
       "      <td>4.88</td>\n",
       "    </tr>\n",
       "    <tr>\n",
       "      <th>3</th>\n",
       "      <td>3</td>\n",
       "      <td>Chamassasya86</td>\n",
       "      <td>24</td>\n",
       "      <td>Male</td>\n",
       "      <td>100</td>\n",
       "      <td>Blindscythe</td>\n",
       "      <td>3.27</td>\n",
       "    </tr>\n",
       "    <tr>\n",
       "      <th>4</th>\n",
       "      <td>4</td>\n",
       "      <td>Iskosia90</td>\n",
       "      <td>23</td>\n",
       "      <td>Male</td>\n",
       "      <td>131</td>\n",
       "      <td>Fury</td>\n",
       "      <td>1.44</td>\n",
       "    </tr>\n",
       "  </tbody>\n",
       "</table>\n",
       "</div>"
      ],
      "text/plain": [
       "   Purchase ID             SN  Age Gender  Item ID  \\\n",
       "0            0        Lisim78   20   Male      108   \n",
       "1            1    Lisovynya38   40   Male      143   \n",
       "2            2     Ithergue48   24   Male       92   \n",
       "3            3  Chamassasya86   24   Male      100   \n",
       "4            4      Iskosia90   23   Male      131   \n",
       "\n",
       "                                   Item Name  Price  \n",
       "0  Extraction, Quickblade Of Trembling Hands   3.53  \n",
       "1                          Frenzied Scimitar   1.56  \n",
       "2                               Final Critic   4.88  \n",
       "3                                Blindscythe   3.27  \n",
       "4                                       Fury   1.44  "
      ]
     },
     "execution_count": 319,
     "metadata": {},
     "output_type": "execute_result"
    }
   ],
   "source": [
    "# Show just the header\n",
    "purchase_data.head()"
   ]
  },
  {
   "cell_type": "markdown",
   "metadata": {},
   "source": [
    "## Player Count"
   ]
  },
  {
   "cell_type": "markdown",
   "metadata": {},
   "source": [
    "* Display the total number of players\n"
   ]
  },
  {
   "cell_type": "code",
   "execution_count": 320,
   "metadata": {},
   "outputs": [
    {
     "data": {
      "text/html": [
       "<div>\n",
       "<style scoped>\n",
       "    .dataframe tbody tr th:only-of-type {\n",
       "        vertical-align: middle;\n",
       "    }\n",
       "\n",
       "    .dataframe tbody tr th {\n",
       "        vertical-align: top;\n",
       "    }\n",
       "\n",
       "    .dataframe thead th {\n",
       "        text-align: right;\n",
       "    }\n",
       "</style>\n",
       "<table border=\"1\" class=\"dataframe\">\n",
       "  <thead>\n",
       "    <tr style=\"text-align: right;\">\n",
       "      <th></th>\n",
       "      <th>Total Players</th>\n",
       "    </tr>\n",
       "  </thead>\n",
       "  <tbody>\n",
       "    <tr>\n",
       "      <th>0</th>\n",
       "      <td>576</td>\n",
       "    </tr>\n",
       "  </tbody>\n",
       "</table>\n",
       "</div>"
      ],
      "text/plain": [
       "   Total Players\n",
       "0            576"
      ]
     },
     "execution_count": 320,
     "metadata": {},
     "output_type": "execute_result"
    }
   ],
   "source": [
    "# Create a dataframe with unique total number of players\n",
    "player_demographics = purchase_data.loc[:, [\"Gender\", \"SN\", \"Age\"]]\n",
    "player_demographics = player_demographics.drop_duplicates()\n",
    "total_players_count = player_demographics.count()[0]\n",
    "total_players_count\n",
    "\n",
    "total_players_df = pd.DataFrame([{\"Total Players\": total_players_count}])\n",
    "total_players_df"
   ]
  },
  {
   "cell_type": "markdown",
   "metadata": {},
   "source": [
    "## Purchasing Analysis (Total)"
   ]
  },
  {
   "cell_type": "markdown",
   "metadata": {},
   "source": [
    "* Run basic calculations to obtain number of unique items, average price, etc.\n",
    "\n",
    "\n",
    "* Create a summary data frame to hold the results\n",
    "\n",
    "\n",
    "* Optional: give the displayed data cleaner formatting\n",
    "\n",
    "\n",
    "* Display the summary data frame\n"
   ]
  },
  {
   "cell_type": "code",
   "execution_count": 321,
   "metadata": {
    "scrolled": true
   },
   "outputs": [
    {
     "data": {
      "text/html": [
       "<style  type=\"text/css\" >\n",
       "</style><table id=\"T_d6262_\" ><thead>    <tr>        <th class=\"blank level0\" ></th>        <th class=\"col_heading level0 col0\" >Number of Unique Items</th>        <th class=\"col_heading level0 col1\" >Average Price</th>        <th class=\"col_heading level0 col2\" >Number of Purchases</th>        <th class=\"col_heading level0 col3\" >Total Revenue</th>    </tr></thead><tbody>\n",
       "                <tr>\n",
       "                        <th id=\"T_d6262_level0_row0\" class=\"row_heading level0 row0\" >0</th>\n",
       "                        <td id=\"T_d6262_row0_col0\" class=\"data row0 col0\" >179</td>\n",
       "                        <td id=\"T_d6262_row0_col1\" class=\"data row0 col1\" >$3.05</td>\n",
       "                        <td id=\"T_d6262_row0_col2\" class=\"data row0 col2\" >780</td>\n",
       "                        <td id=\"T_d6262_row0_col3\" class=\"data row0 col3\" >$2,379.77</td>\n",
       "            </tr>\n",
       "    </tbody></table>"
      ],
      "text/plain": [
       "<pandas.io.formats.style.Styler at 0x7f85e4853910>"
      ]
     },
     "execution_count": 321,
     "metadata": {},
     "output_type": "execute_result"
    }
   ],
   "source": [
    "# Create values\n",
    "unique_items = len(purchase_data[\"Item ID\"].unique())\n",
    "average_price = round(purchase_data[\"Price\"].mean(), 2)\n",
    "number_of_purchases = purchase_data[\"Price\"].count()\n",
    "total_revenue = round(purchase_data[\"Price\"].sum(), 2)\n",
    "\n",
    "# Create dataframe with values\n",
    "purchasing_analysis_df = pd.DataFrame([{\"Number of Unique Items\": unique_items,\n",
    "                                      \"Average Price\": average_price,\n",
    "                                      \"Number of Purchases\": number_of_purchases,\n",
    "                                      \"Total Revenue\": total_revenue}])\n",
    "\n",
    "# Create a value to add styling to the data to include dollar signs where needed\n",
    "format_dict = {'Average Price':'${0:,.2f}', 'Total Revenue':'${0:,.2f}'}\n",
    "\n",
    "purchasing_analysis_df.style.format(format_dict)"
   ]
  },
  {
   "cell_type": "markdown",
   "metadata": {},
   "source": [
    "## Gender Demographics"
   ]
  },
  {
   "cell_type": "markdown",
   "metadata": {},
   "source": [
    "* Percentage and Count of Male Players\n",
    "\n",
    "\n",
    "* Percentage and Count of Female Players\n",
    "\n",
    "\n",
    "* Percentage and Count of Other / Non-Disclosed\n",
    "\n",
    "\n"
   ]
  },
  {
   "cell_type": "code",
   "execution_count": 322,
   "metadata": {},
   "outputs": [
    {
     "data": {
      "text/html": [
       "<style  type=\"text/css\" >\n",
       "</style><table id=\"T_862d9_\" ><thead>    <tr>        <th class=\"blank level0\" ></th>        <th class=\"col_heading level0 col0\" >Total Count</th>        <th class=\"col_heading level0 col1\" >Percentage of Players</th>    </tr></thead><tbody>\n",
       "                <tr>\n",
       "                        <th id=\"T_862d9_level0_row0\" class=\"row_heading level0 row0\" >Male</th>\n",
       "                        <td id=\"T_862d9_row0_col0\" class=\"data row0 col0\" >484</td>\n",
       "                        <td id=\"T_862d9_row0_col1\" class=\"data row0 col1\" >84.03%</td>\n",
       "            </tr>\n",
       "            <tr>\n",
       "                        <th id=\"T_862d9_level0_row1\" class=\"row_heading level0 row1\" >Female</th>\n",
       "                        <td id=\"T_862d9_row1_col0\" class=\"data row1 col0\" >81</td>\n",
       "                        <td id=\"T_862d9_row1_col1\" class=\"data row1 col1\" >14.06%</td>\n",
       "            </tr>\n",
       "            <tr>\n",
       "                        <th id=\"T_862d9_level0_row2\" class=\"row_heading level0 row2\" >Other / Non-Disclosed</th>\n",
       "                        <td id=\"T_862d9_row2_col0\" class=\"data row2 col0\" >11</td>\n",
       "                        <td id=\"T_862d9_row2_col1\" class=\"data row2 col1\" >1.91%</td>\n",
       "            </tr>\n",
       "    </tbody></table>"
      ],
      "text/plain": [
       "<pandas.io.formats.style.Styler at 0x7f85e66b0490>"
      ]
     },
     "execution_count": 322,
     "metadata": {},
     "output_type": "execute_result"
    }
   ],
   "source": [
    "# Create variables for total gender count and eliminate duplicate SN's to get the count of gender demographic players and get percentages\n",
    "gender_demographics = player_demographics[\"Gender\"].value_counts()\n",
    "gender_demographics_percent = gender_demographics/ total_players_count\n",
    "gender_demographics_percent\n",
    "\n",
    "# Create datafrme with gender demographics\n",
    "gender_demographics_df = pd.DataFrame({\"Total Count\": gender_demographics,\n",
    "                                      \"Percentage of Players\": gender_demographics_percent})\n",
    "\n",
    "# Create a value to add styling to the data to include percentage\n",
    "format_dict_2 = {'Percentage of Players': '{:.2%}'}\n",
    "\n",
    "gender_demographics_df.style.format(format_dict_2)"
   ]
  },
  {
   "cell_type": "markdown",
   "metadata": {},
   "source": [
    "\n",
    "## Purchasing Analysis (Gender)"
   ]
  },
  {
   "cell_type": "markdown",
   "metadata": {},
   "source": [
    "* Run basic calculations to obtain purchase count, avg. purchase price, avg. purchase total per person etc. by gender\n",
    "\n",
    "\n",
    "\n",
    "\n",
    "* Create a summary data frame to hold the results\n",
    "\n",
    "\n",
    "* Optional: give the displayed data cleaner formatting\n",
    "\n",
    "\n",
    "* Display the summary data frame"
   ]
  },
  {
   "cell_type": "code",
   "execution_count": 323,
   "metadata": {},
   "outputs": [
    {
     "data": {
      "text/html": [
       "<style  type=\"text/css\" >\n",
       "</style><table id=\"T_21866_\" ><thead>    <tr>        <th class=\"blank level0\" ></th>        <th class=\"col_heading level0 col0\" >Purchase Count</th>        <th class=\"col_heading level0 col1\" >Average Purchase Price</th>        <th class=\"col_heading level0 col2\" >Total Purchase Value</th>        <th class=\"col_heading level0 col3\" >Avg Total Purchase per Person</th>    </tr></thead><tbody>\n",
       "                <tr>\n",
       "                        <th id=\"T_21866_level0_row0\" class=\"row_heading level0 row0\" >Female</th>\n",
       "                        <td id=\"T_21866_row0_col0\" class=\"data row0 col0\" >113</td>\n",
       "                        <td id=\"T_21866_row0_col1\" class=\"data row0 col1\" >$3.20</td>\n",
       "                        <td id=\"T_21866_row0_col2\" class=\"data row0 col2\" >$361.94</td>\n",
       "                        <td id=\"T_21866_row0_col3\" class=\"data row0 col3\" >$4.47</td>\n",
       "            </tr>\n",
       "            <tr>\n",
       "                        <th id=\"T_21866_level0_row1\" class=\"row_heading level0 row1\" >Male</th>\n",
       "                        <td id=\"T_21866_row1_col0\" class=\"data row1 col0\" >652</td>\n",
       "                        <td id=\"T_21866_row1_col1\" class=\"data row1 col1\" >$3.02</td>\n",
       "                        <td id=\"T_21866_row1_col2\" class=\"data row1 col2\" >$1,967.64</td>\n",
       "                        <td id=\"T_21866_row1_col3\" class=\"data row1 col3\" >$4.07</td>\n",
       "            </tr>\n",
       "            <tr>\n",
       "                        <th id=\"T_21866_level0_row2\" class=\"row_heading level0 row2\" >Other / Non-Disclosed</th>\n",
       "                        <td id=\"T_21866_row2_col0\" class=\"data row2 col0\" >15</td>\n",
       "                        <td id=\"T_21866_row2_col1\" class=\"data row2 col1\" >$3.35</td>\n",
       "                        <td id=\"T_21866_row2_col2\" class=\"data row2 col2\" >$50.19</td>\n",
       "                        <td id=\"T_21866_row2_col3\" class=\"data row2 col3\" >$4.56</td>\n",
       "            </tr>\n",
       "    </tbody></table>"
      ],
      "text/plain": [
       "<pandas.io.formats.style.Styler at 0x7f85e5b6fd00>"
      ]
     },
     "execution_count": 323,
     "metadata": {},
     "output_type": "execute_result"
    }
   ],
   "source": [
    "# Create variables to determine total purchasing analysis by gender demographics\n",
    "purchase_count = purchase_data.groupby([\"Gender\"]).count()[\"Price\"]\n",
    "average_purchase_price = purchase_data.groupby([\"Gender\"]).mean()[\"Price\"]\n",
    "total_purchase_value = purchase_data.groupby([\"Gender\"]).sum()[\"Price\"]\n",
    "avg_purchase_per_person = total_purchase_value/gender_demographics\n",
    "\n",
    "purchasing_analysis_df = pd.DataFrame({\"Purchase Count\": purchase_count,\n",
    "                                      \"Average Purchase Price\": average_purchase_price,\n",
    "                                      \"Total Purchase Value\": total_purchase_value,\n",
    "                                      \"Avg Total Purchase per Person\": avg_purchase_per_person})\n",
    "\n",
    "# Create a value to add styling to the data to include dollar signs where needed\n",
    "format_dict_3 = {'Average Purchase Price':'${0:,.2f}', 'Total Purchase Value':'${0:,.2f}', 'Avg Total Purchase per Person':'${0:,.2f}'}\n",
    "\n",
    "purchasing_analysis_df.style.format(format_dict_3)"
   ]
  },
  {
   "cell_type": "markdown",
   "metadata": {},
   "source": [
    "## Age Demographics"
   ]
  },
  {
   "cell_type": "markdown",
   "metadata": {},
   "source": [
    "* Establish bins for ages\n",
    "\n",
    "\n",
    "* Categorize the existing players using the age bins. Hint: use pd.cut()\n",
    "\n",
    "\n",
    "* Calculate the numbers and percentages by age group\n",
    "\n",
    "\n",
    "* Create a summary data frame to hold the results\n",
    "\n",
    "\n",
    "* Optional: round the percentage column to two decimal points\n",
    "\n",
    "\n",
    "* Display Age Demographics Table\n"
   ]
  },
  {
   "cell_type": "code",
   "execution_count": 324,
   "metadata": {},
   "outputs": [
    {
     "data": {
      "text/html": [
       "<style  type=\"text/css\" >\n",
       "</style><table id=\"T_2e46a_\" ><thead>    <tr>        <th class=\"blank level0\" ></th>        <th class=\"col_heading level0 col0\" >Total Count of Age Demographics</th>        <th class=\"col_heading level0 col1\" >Percentage of Players Per Age Demographics</th>    </tr></thead><tbody>\n",
       "                <tr>\n",
       "                        <th id=\"T_2e46a_level0_row0\" class=\"row_heading level0 row0\" ><10</th>\n",
       "                        <td id=\"T_2e46a_row0_col0\" class=\"data row0 col0\" >17</td>\n",
       "                        <td id=\"T_2e46a_row0_col1\" class=\"data row0 col1\" >2.95%</td>\n",
       "            </tr>\n",
       "            <tr>\n",
       "                        <th id=\"T_2e46a_level0_row1\" class=\"row_heading level0 row1\" >10-14</th>\n",
       "                        <td id=\"T_2e46a_row1_col0\" class=\"data row1 col0\" >22</td>\n",
       "                        <td id=\"T_2e46a_row1_col1\" class=\"data row1 col1\" >3.82%</td>\n",
       "            </tr>\n",
       "            <tr>\n",
       "                        <th id=\"T_2e46a_level0_row2\" class=\"row_heading level0 row2\" >15-19</th>\n",
       "                        <td id=\"T_2e46a_row2_col0\" class=\"data row2 col0\" >107</td>\n",
       "                        <td id=\"T_2e46a_row2_col1\" class=\"data row2 col1\" >18.58%</td>\n",
       "            </tr>\n",
       "            <tr>\n",
       "                        <th id=\"T_2e46a_level0_row3\" class=\"row_heading level0 row3\" >20-24</th>\n",
       "                        <td id=\"T_2e46a_row3_col0\" class=\"data row3 col0\" >258</td>\n",
       "                        <td id=\"T_2e46a_row3_col1\" class=\"data row3 col1\" >44.79%</td>\n",
       "            </tr>\n",
       "            <tr>\n",
       "                        <th id=\"T_2e46a_level0_row4\" class=\"row_heading level0 row4\" >25-29</th>\n",
       "                        <td id=\"T_2e46a_row4_col0\" class=\"data row4 col0\" >77</td>\n",
       "                        <td id=\"T_2e46a_row4_col1\" class=\"data row4 col1\" >13.37%</td>\n",
       "            </tr>\n",
       "            <tr>\n",
       "                        <th id=\"T_2e46a_level0_row5\" class=\"row_heading level0 row5\" >30-34</th>\n",
       "                        <td id=\"T_2e46a_row5_col0\" class=\"data row5 col0\" >52</td>\n",
       "                        <td id=\"T_2e46a_row5_col1\" class=\"data row5 col1\" >9.03%</td>\n",
       "            </tr>\n",
       "            <tr>\n",
       "                        <th id=\"T_2e46a_level0_row6\" class=\"row_heading level0 row6\" >35-39</th>\n",
       "                        <td id=\"T_2e46a_row6_col0\" class=\"data row6 col0\" >31</td>\n",
       "                        <td id=\"T_2e46a_row6_col1\" class=\"data row6 col1\" >5.38%</td>\n",
       "            </tr>\n",
       "            <tr>\n",
       "                        <th id=\"T_2e46a_level0_row7\" class=\"row_heading level0 row7\" >40+</th>\n",
       "                        <td id=\"T_2e46a_row7_col0\" class=\"data row7 col0\" >12</td>\n",
       "                        <td id=\"T_2e46a_row7_col1\" class=\"data row7 col1\" >2.08%</td>\n",
       "            </tr>\n",
       "    </tbody></table>"
      ],
      "text/plain": [
       "<pandas.io.formats.style.Styler at 0x7f85e59509d0>"
      ]
     },
     "execution_count": 324,
     "metadata": {},
     "output_type": "execute_result"
    }
   ],
   "source": [
    "# Establish bins for ages\n",
    "age_bins = [0, 9.90, 14.90, 19.90, 24.90, 29.90, 34.90, 39.90, 200]\n",
    "\n",
    "# Create age group ranges variable\n",
    "group_label = [\"<10\", \"10-14\", \"15-19\", \"20-24\", \"25-29\", \"30-34\", \"35-39\", \"40+\"]\n",
    "\n",
    "# Use age bins to group players\n",
    "player_demographics[\"Age Ranges\"] = pd.cut(player_demographics[\"Age\"], age_bins, labels = group_label)\n",
    "\n",
    "# Calculate the total count and percentages per age group\n",
    "age_demographic_total = player_demographics[\"Age Ranges\"].value_counts()\n",
    "players_percentage = age_demographic_total / total_players_count\n",
    "age_demographics_df = pd.DataFrame({\"Total Count of Age Demographics\": age_demographic_total,\n",
    "                                    \"Percentage of Players Per Age Demographics\": players_percentage})\n",
    "\n",
    "# Create a value to add styling to the data to include percentage\n",
    "format_dict_4 = {'Percentage of Players Per Age Demographics': '{:.2%}'}\n",
    "\n",
    "# Display age demographics table and sort\n",
    "age_demographics_df.sort_index().style.format(format_dict_4)"
   ]
  },
  {
   "cell_type": "markdown",
   "metadata": {},
   "source": [
    "## Purchasing Analysis (Age)"
   ]
  },
  {
   "cell_type": "markdown",
   "metadata": {},
   "source": [
    "* Bin the purchase_data data frame by age\n",
    "\n",
    "\n",
    "* Run basic calculations to obtain purchase count, avg. purchase price, avg. purchase total per person etc. in the table below\n",
    "\n",
    "\n",
    "* Create a summary data frame to hold the results\n",
    "\n",
    "\n",
    "* Optional: give the displayed data cleaner formatting\n",
    "\n",
    "\n",
    "* Display the summary data frame"
   ]
  },
  {
   "cell_type": "code",
   "execution_count": 325,
   "metadata": {},
   "outputs": [
    {
     "data": {
      "text/html": [
       "<style  type=\"text/css\" >\n",
       "</style><table id=\"T_f6b21_\" ><thead>    <tr>        <th class=\"blank level0\" ></th>        <th class=\"col_heading level0 col0\" >Purchase Count</th>        <th class=\"col_heading level0 col1\" >Average Purchase Price</th>        <th class=\"col_heading level0 col2\" >Total Purchase Value</th>        <th class=\"col_heading level0 col3\" >Avg Total Purchase per Person</th>    </tr></thead><tbody>\n",
       "                <tr>\n",
       "                        <th id=\"T_f6b21_level0_row0\" class=\"row_heading level0 row0\" ><10</th>\n",
       "                        <td id=\"T_f6b21_row0_col0\" class=\"data row0 col0\" >23</td>\n",
       "                        <td id=\"T_f6b21_row0_col1\" class=\"data row0 col1\" >$3.35</td>\n",
       "                        <td id=\"T_f6b21_row0_col2\" class=\"data row0 col2\" >$77.13</td>\n",
       "                        <td id=\"T_f6b21_row0_col3\" class=\"data row0 col3\" >$4.54</td>\n",
       "            </tr>\n",
       "            <tr>\n",
       "                        <th id=\"T_f6b21_level0_row1\" class=\"row_heading level0 row1\" >10-14</th>\n",
       "                        <td id=\"T_f6b21_row1_col0\" class=\"data row1 col0\" >28</td>\n",
       "                        <td id=\"T_f6b21_row1_col1\" class=\"data row1 col1\" >$2.96</td>\n",
       "                        <td id=\"T_f6b21_row1_col2\" class=\"data row1 col2\" >$82.78</td>\n",
       "                        <td id=\"T_f6b21_row1_col3\" class=\"data row1 col3\" >$3.76</td>\n",
       "            </tr>\n",
       "            <tr>\n",
       "                        <th id=\"T_f6b21_level0_row2\" class=\"row_heading level0 row2\" >15-19</th>\n",
       "                        <td id=\"T_f6b21_row2_col0\" class=\"data row2 col0\" >136</td>\n",
       "                        <td id=\"T_f6b21_row2_col1\" class=\"data row2 col1\" >$3.04</td>\n",
       "                        <td id=\"T_f6b21_row2_col2\" class=\"data row2 col2\" >$412.89</td>\n",
       "                        <td id=\"T_f6b21_row2_col3\" class=\"data row2 col3\" >$3.86</td>\n",
       "            </tr>\n",
       "            <tr>\n",
       "                        <th id=\"T_f6b21_level0_row3\" class=\"row_heading level0 row3\" >20-24</th>\n",
       "                        <td id=\"T_f6b21_row3_col0\" class=\"data row3 col0\" >365</td>\n",
       "                        <td id=\"T_f6b21_row3_col1\" class=\"data row3 col1\" >$3.05</td>\n",
       "                        <td id=\"T_f6b21_row3_col2\" class=\"data row3 col2\" >$1,114.06</td>\n",
       "                        <td id=\"T_f6b21_row3_col3\" class=\"data row3 col3\" >$4.32</td>\n",
       "            </tr>\n",
       "            <tr>\n",
       "                        <th id=\"T_f6b21_level0_row4\" class=\"row_heading level0 row4\" >25-29</th>\n",
       "                        <td id=\"T_f6b21_row4_col0\" class=\"data row4 col0\" >101</td>\n",
       "                        <td id=\"T_f6b21_row4_col1\" class=\"data row4 col1\" >$2.90</td>\n",
       "                        <td id=\"T_f6b21_row4_col2\" class=\"data row4 col2\" >$293.00</td>\n",
       "                        <td id=\"T_f6b21_row4_col3\" class=\"data row4 col3\" >$3.81</td>\n",
       "            </tr>\n",
       "            <tr>\n",
       "                        <th id=\"T_f6b21_level0_row5\" class=\"row_heading level0 row5\" >30-34</th>\n",
       "                        <td id=\"T_f6b21_row5_col0\" class=\"data row5 col0\" >73</td>\n",
       "                        <td id=\"T_f6b21_row5_col1\" class=\"data row5 col1\" >$2.93</td>\n",
       "                        <td id=\"T_f6b21_row5_col2\" class=\"data row5 col2\" >$214.00</td>\n",
       "                        <td id=\"T_f6b21_row5_col3\" class=\"data row5 col3\" >$4.12</td>\n",
       "            </tr>\n",
       "            <tr>\n",
       "                        <th id=\"T_f6b21_level0_row6\" class=\"row_heading level0 row6\" >35-39</th>\n",
       "                        <td id=\"T_f6b21_row6_col0\" class=\"data row6 col0\" >41</td>\n",
       "                        <td id=\"T_f6b21_row6_col1\" class=\"data row6 col1\" >$3.60</td>\n",
       "                        <td id=\"T_f6b21_row6_col2\" class=\"data row6 col2\" >$147.67</td>\n",
       "                        <td id=\"T_f6b21_row6_col3\" class=\"data row6 col3\" >$4.76</td>\n",
       "            </tr>\n",
       "            <tr>\n",
       "                        <th id=\"T_f6b21_level0_row7\" class=\"row_heading level0 row7\" >40+</th>\n",
       "                        <td id=\"T_f6b21_row7_col0\" class=\"data row7 col0\" >13</td>\n",
       "                        <td id=\"T_f6b21_row7_col1\" class=\"data row7 col1\" >$2.94</td>\n",
       "                        <td id=\"T_f6b21_row7_col2\" class=\"data row7 col2\" >$38.24</td>\n",
       "                        <td id=\"T_f6b21_row7_col3\" class=\"data row7 col3\" >$3.19</td>\n",
       "            </tr>\n",
       "    </tbody></table>"
      ],
      "text/plain": [
       "<pandas.io.formats.style.Styler at 0x7f85e497dd00>"
      ]
     },
     "execution_count": 325,
     "metadata": {},
     "output_type": "execute_result"
    }
   ],
   "source": [
    "# Bin the purchase_data data frame by age\n",
    "purchase_data[\"Age Ranges\"] = pd.cut(purchase_data[\"Age\"], age_bins, labels = group_label)\n",
    "\n",
    "#Create variables\n",
    "purchase_count = purchase_data.groupby([\"Age Ranges\"]).count()[\"Price\"]\n",
    "avg_purchase_price = purchase_data.groupby([\"Age Ranges\"]).mean()[\"Price\"]\n",
    "total_purchase_value = purchase_data.groupby([\"Age Ranges\"]).sum()[\"Price\"]\n",
    "avg_total_purchase = total_purchase_value / age_demographics_df[\"Total Count of Age Demographics\"]\n",
    "\n",
    "purchasing_analysis_df = pd.DataFrame({\"Purchase Count\": purchase_count, \n",
    "                                       \"Average Purchase Price\": avg_purchase_price, \n",
    "                                       \"Total Purchase Value\": total_purchase_value, \n",
    "                                       \"Avg Total Purchase per Person\": avg_total_purchase})\n",
    "\n",
    "# Create a value to add styling to the data to include percentage\n",
    "format_dict_5 = {'Average Purchase Price':'${0:,.2f}', 'Total Purchase Value':'${0:,.2f}', 'Avg Total Purchase per Person':'${0:,.2f}'}\n",
    "\n",
    "# Display age demographics table and sort\n",
    "purchasing_analysis_df.sort_index().style.format(format_dict_5)"
   ]
  },
  {
   "cell_type": "markdown",
   "metadata": {},
   "source": [
    "## Top Spenders"
   ]
  },
  {
   "cell_type": "markdown",
   "metadata": {},
   "source": [
    "* Run basic calculations to obtain the results in the table below\n",
    "\n",
    "\n",
    "* Create a summary data frame to hold the results\n",
    "\n",
    "\n",
    "* Sort the total purchase value column in descending order\n",
    "\n",
    "\n",
    "* Optional: give the displayed data cleaner formatting\n",
    "\n",
    "\n",
    "* Display a preview of the summary data frame\n",
    "\n"
   ]
  },
  {
   "cell_type": "code",
   "execution_count": 326,
   "metadata": {},
   "outputs": [
    {
     "data": {
      "text/html": [
       "<style  type=\"text/css\" >\n",
       "</style><table id=\"T_bb740_\" ><thead>    <tr>        <th class=\"blank level0\" ></th>        <th class=\"col_heading level0 col0\" >Purchase Count</th>        <th class=\"col_heading level0 col1\" >Average Purchase Price</th>        <th class=\"col_heading level0 col2\" >Total Purchase Value</th>    </tr>    <tr>        <th class=\"index_name level0\" >SN</th>        <th class=\"blank\" ></th>        <th class=\"blank\" ></th>        <th class=\"blank\" ></th>    </tr></thead><tbody>\n",
       "                <tr>\n",
       "                        <th id=\"T_bb740_level0_row0\" class=\"row_heading level0 row0\" >Lisosia93</th>\n",
       "                        <td id=\"T_bb740_row0_col0\" class=\"data row0 col0\" >5</td>\n",
       "                        <td id=\"T_bb740_row0_col1\" class=\"data row0 col1\" >$3.79</td>\n",
       "                        <td id=\"T_bb740_row0_col2\" class=\"data row0 col2\" >$18.96</td>\n",
       "            </tr>\n",
       "            <tr>\n",
       "                        <th id=\"T_bb740_level0_row1\" class=\"row_heading level0 row1\" >Idastidru52</th>\n",
       "                        <td id=\"T_bb740_row1_col0\" class=\"data row1 col0\" >4</td>\n",
       "                        <td id=\"T_bb740_row1_col1\" class=\"data row1 col1\" >$3.86</td>\n",
       "                        <td id=\"T_bb740_row1_col2\" class=\"data row1 col2\" >$15.45</td>\n",
       "            </tr>\n",
       "            <tr>\n",
       "                        <th id=\"T_bb740_level0_row2\" class=\"row_heading level0 row2\" >Chamjask73</th>\n",
       "                        <td id=\"T_bb740_row2_col0\" class=\"data row2 col0\" >3</td>\n",
       "                        <td id=\"T_bb740_row2_col1\" class=\"data row2 col1\" >$4.61</td>\n",
       "                        <td id=\"T_bb740_row2_col2\" class=\"data row2 col2\" >$13.83</td>\n",
       "            </tr>\n",
       "            <tr>\n",
       "                        <th id=\"T_bb740_level0_row3\" class=\"row_heading level0 row3\" >Iral74</th>\n",
       "                        <td id=\"T_bb740_row3_col0\" class=\"data row3 col0\" >4</td>\n",
       "                        <td id=\"T_bb740_row3_col1\" class=\"data row3 col1\" >$3.40</td>\n",
       "                        <td id=\"T_bb740_row3_col2\" class=\"data row3 col2\" >$13.62</td>\n",
       "            </tr>\n",
       "            <tr>\n",
       "                        <th id=\"T_bb740_level0_row4\" class=\"row_heading level0 row4\" >Iskadarya95</th>\n",
       "                        <td id=\"T_bb740_row4_col0\" class=\"data row4 col0\" >3</td>\n",
       "                        <td id=\"T_bb740_row4_col1\" class=\"data row4 col1\" >$4.37</td>\n",
       "                        <td id=\"T_bb740_row4_col2\" class=\"data row4 col2\" >$13.10</td>\n",
       "            </tr>\n",
       "    </tbody></table>"
      ],
      "text/plain": [
       "<pandas.io.formats.style.Styler at 0x7f85e497dfa0>"
      ]
     },
     "execution_count": 326,
     "metadata": {},
     "output_type": "execute_result"
    }
   ],
   "source": [
    "# Create variables to calculate results as displayed in the table\n",
    "spender_count = purchase_data.groupby([\"SN\"]).count()[\"Price\"]\n",
    "spender_avg = purchase_data.groupby([\"SN\"]).mean()[\"Price\"]\n",
    "spender_total = purchase_data.groupby([\"SN\"]).sum()[\"Price\"]\n",
    "\n",
    "\n",
    "top_spenders_df = pd.DataFrame({\"Purchase Count\": spender_count, \n",
    "                                \"Average Purchase Price\": spender_avg, \n",
    "                                \"Total Purchase Value\": spender_total}) \n",
    "\n",
    "top_spenders_df = top_spenders_df.sort_values(\"Total Purchase Value\", ascending=False)\n",
    "\n",
    "# Create a value to add styling to the data to include percentage\n",
    "format_dict_6 = {'Average Purchase Price':'${0:,.2f}', 'Total Purchase Value':'${0:,.2f}'}\n",
    "\n",
    "# Display age demographics table and sort\n",
    "top_spenders_df.head(5).style.format(format_dict_6)"
   ]
  },
  {
   "cell_type": "markdown",
   "metadata": {},
   "source": [
    "## Most Popular Items"
   ]
  },
  {
   "cell_type": "markdown",
   "metadata": {},
   "source": [
    "* Retrieve the Item ID, Item Name, and Item Price columns\n",
    "\n",
    "\n",
    "* Group by Item ID and Item Name. Perform calculations to obtain purchase count, item price, and total purchase value\n",
    "\n",
    "\n",
    "* Create a summary data frame to hold the results\n",
    "\n",
    "\n",
    "* Sort the purchase count column in descending order\n",
    "\n",
    "\n",
    "* Optional: give the displayed data cleaner formatting\n",
    "\n",
    "\n",
    "* Display a preview of the summary data frame\n",
    "\n"
   ]
  },
  {
   "cell_type": "code",
   "execution_count": 327,
   "metadata": {},
   "outputs": [
    {
     "data": {
      "text/html": [
       "<style  type=\"text/css\" >\n",
       "</style><table id=\"T_c2f1d_\" ><thead>    <tr>        <th class=\"blank\" ></th>        <th class=\"blank level0\" ></th>        <th class=\"col_heading level0 col0\" >Purchase Count</th>        <th class=\"col_heading level0 col1\" >Item Price</th>        <th class=\"col_heading level0 col2\" >Total Purchase Value</th>    </tr>    <tr>        <th class=\"index_name level0\" >Item ID</th>        <th class=\"index_name level1\" >Item Name</th>        <th class=\"blank\" ></th>        <th class=\"blank\" ></th>        <th class=\"blank\" ></th>    </tr></thead><tbody>\n",
       "                <tr>\n",
       "                        <th id=\"T_c2f1d_level0_row0\" class=\"row_heading level0 row0\" >92</th>\n",
       "                        <th id=\"T_c2f1d_level1_row0\" class=\"row_heading level1 row0\" >Final Critic</th>\n",
       "                        <td id=\"T_c2f1d_row0_col0\" class=\"data row0 col0\" >13</td>\n",
       "                        <td id=\"T_c2f1d_row0_col1\" class=\"data row0 col1\" >$4.61</td>\n",
       "                        <td id=\"T_c2f1d_row0_col2\" class=\"data row0 col2\" >$59.99</td>\n",
       "            </tr>\n",
       "            <tr>\n",
       "                        <th id=\"T_c2f1d_level0_row1\" class=\"row_heading level0 row1\" >178</th>\n",
       "                        <th id=\"T_c2f1d_level1_row1\" class=\"row_heading level1 row1\" >Oathbreaker, Last Hope of the Breaking Storm</th>\n",
       "                        <td id=\"T_c2f1d_row1_col0\" class=\"data row1 col0\" >12</td>\n",
       "                        <td id=\"T_c2f1d_row1_col1\" class=\"data row1 col1\" >$4.23</td>\n",
       "                        <td id=\"T_c2f1d_row1_col2\" class=\"data row1 col2\" >$50.76</td>\n",
       "            </tr>\n",
       "            <tr>\n",
       "                        <th id=\"T_c2f1d_level0_row2\" class=\"row_heading level0 row2\" >145</th>\n",
       "                        <th id=\"T_c2f1d_level1_row2\" class=\"row_heading level1 row2\" >Fiery Glass Crusader</th>\n",
       "                        <td id=\"T_c2f1d_row2_col0\" class=\"data row2 col0\" >9</td>\n",
       "                        <td id=\"T_c2f1d_row2_col1\" class=\"data row2 col1\" >$4.58</td>\n",
       "                        <td id=\"T_c2f1d_row2_col2\" class=\"data row2 col2\" >$41.22</td>\n",
       "            </tr>\n",
       "            <tr>\n",
       "                        <th id=\"T_c2f1d_level0_row3\" class=\"row_heading level0 row3\" >132</th>\n",
       "                        <th id=\"T_c2f1d_level1_row3\" class=\"row_heading level1 row3\" >Persuasion</th>\n",
       "                        <td id=\"T_c2f1d_row3_col0\" class=\"data row3 col0\" >9</td>\n",
       "                        <td id=\"T_c2f1d_row3_col1\" class=\"data row3 col1\" >$3.22</td>\n",
       "                        <td id=\"T_c2f1d_row3_col2\" class=\"data row3 col2\" >$28.99</td>\n",
       "            </tr>\n",
       "            <tr>\n",
       "                        <th id=\"T_c2f1d_level0_row4\" class=\"row_heading level0 row4\" >108</th>\n",
       "                        <th id=\"T_c2f1d_level1_row4\" class=\"row_heading level1 row4\" >Extraction, Quickblade Of Trembling Hands</th>\n",
       "                        <td id=\"T_c2f1d_row4_col0\" class=\"data row4 col0\" >9</td>\n",
       "                        <td id=\"T_c2f1d_row4_col1\" class=\"data row4 col1\" >$3.53</td>\n",
       "                        <td id=\"T_c2f1d_row4_col2\" class=\"data row4 col2\" >$31.77</td>\n",
       "            </tr>\n",
       "    </tbody></table>"
      ],
      "text/plain": [
       "<pandas.io.formats.style.Styler at 0x7f85e640be20>"
      ]
     },
     "execution_count": 327,
     "metadata": {},
     "output_type": "execute_result"
    }
   ],
   "source": [
    "# Retrieve the Item ID, Item Name, and Item Price columns\n",
    "item_columns = purchase_data.loc[:,[\"Item ID\", \"Item Name\", \"Price\"]]\n",
    "\n",
    "# Groupby the items and make calculations\n",
    "item_purchase_count = purchase_data.groupby([\"Item ID\", \"Item Name\"]).count()[\"Price\"]\n",
    "item_price = item_columns.groupby([\"Item ID\", \"Item Name\"]).mean()[\"Price\"]\n",
    "item_total_purchase = item_columns.groupby([\"Item ID\", \"Item Name\"]).sum()[\"Price\"]\n",
    "\n",
    "popular_items_df = pd.DataFrame({\"Purchase Count\": item_purchase_count, \n",
    "                                \"Item Price\": item_price, \n",
    "                                \"Total Purchase Value\": item_total_purchase}) \n",
    "\n",
    "popular_items_df = popular_items_df.sort_values(\"Purchase Count\", ascending=False)\n",
    "\n",
    "# Create a value to add styling to the data to include percentage\n",
    "format_dict_7 = {'Item Price':'${0:,.2f}', 'Total Purchase Value':'${0:,.2f}'}\n",
    "\n",
    "# Display age demographics table and sort\n",
    "popular_items_df.head(5).style.format(format_dict_7)"
   ]
  },
  {
   "cell_type": "markdown",
   "metadata": {},
   "source": [
    "## Most Profitable Items"
   ]
  },
  {
   "cell_type": "markdown",
   "metadata": {},
   "source": [
    "* Sort the above table by total purchase value in descending order\n",
    "\n",
    "\n",
    "* Optional: give the displayed data cleaner formatting\n",
    "\n",
    "\n",
    "* Display a preview of the data frame\n",
    "\n"
   ]
  },
  {
   "cell_type": "code",
   "execution_count": 328,
   "metadata": {},
   "outputs": [
    {
     "data": {
      "text/html": [
       "<style  type=\"text/css\" >\n",
       "</style><table id=\"T_3320d_\" ><thead>    <tr>        <th class=\"blank\" ></th>        <th class=\"blank level0\" ></th>        <th class=\"col_heading level0 col0\" >Purchase Count</th>        <th class=\"col_heading level0 col1\" >Item Price</th>        <th class=\"col_heading level0 col2\" >Total Purchase Value</th>    </tr>    <tr>        <th class=\"index_name level0\" >Item ID</th>        <th class=\"index_name level1\" >Item Name</th>        <th class=\"blank\" ></th>        <th class=\"blank\" ></th>        <th class=\"blank\" ></th>    </tr></thead><tbody>\n",
       "                <tr>\n",
       "                        <th id=\"T_3320d_level0_row0\" class=\"row_heading level0 row0\" >92</th>\n",
       "                        <th id=\"T_3320d_level1_row0\" class=\"row_heading level1 row0\" >Final Critic</th>\n",
       "                        <td id=\"T_3320d_row0_col0\" class=\"data row0 col0\" >13</td>\n",
       "                        <td id=\"T_3320d_row0_col1\" class=\"data row0 col1\" >$4.61</td>\n",
       "                        <td id=\"T_3320d_row0_col2\" class=\"data row0 col2\" >$59.99</td>\n",
       "            </tr>\n",
       "            <tr>\n",
       "                        <th id=\"T_3320d_level0_row1\" class=\"row_heading level0 row1\" >178</th>\n",
       "                        <th id=\"T_3320d_level1_row1\" class=\"row_heading level1 row1\" >Oathbreaker, Last Hope of the Breaking Storm</th>\n",
       "                        <td id=\"T_3320d_row1_col0\" class=\"data row1 col0\" >12</td>\n",
       "                        <td id=\"T_3320d_row1_col1\" class=\"data row1 col1\" >$4.23</td>\n",
       "                        <td id=\"T_3320d_row1_col2\" class=\"data row1 col2\" >$50.76</td>\n",
       "            </tr>\n",
       "            <tr>\n",
       "                        <th id=\"T_3320d_level0_row2\" class=\"row_heading level0 row2\" >82</th>\n",
       "                        <th id=\"T_3320d_level1_row2\" class=\"row_heading level1 row2\" >Nirvana</th>\n",
       "                        <td id=\"T_3320d_row2_col0\" class=\"data row2 col0\" >9</td>\n",
       "                        <td id=\"T_3320d_row2_col1\" class=\"data row2 col1\" >$4.90</td>\n",
       "                        <td id=\"T_3320d_row2_col2\" class=\"data row2 col2\" >$44.10</td>\n",
       "            </tr>\n",
       "            <tr>\n",
       "                        <th id=\"T_3320d_level0_row3\" class=\"row_heading level0 row3\" >145</th>\n",
       "                        <th id=\"T_3320d_level1_row3\" class=\"row_heading level1 row3\" >Fiery Glass Crusader</th>\n",
       "                        <td id=\"T_3320d_row3_col0\" class=\"data row3 col0\" >9</td>\n",
       "                        <td id=\"T_3320d_row3_col1\" class=\"data row3 col1\" >$4.58</td>\n",
       "                        <td id=\"T_3320d_row3_col2\" class=\"data row3 col2\" >$41.22</td>\n",
       "            </tr>\n",
       "            <tr>\n",
       "                        <th id=\"T_3320d_level0_row4\" class=\"row_heading level0 row4\" >103</th>\n",
       "                        <th id=\"T_3320d_level1_row4\" class=\"row_heading level1 row4\" >Singed Scalpel</th>\n",
       "                        <td id=\"T_3320d_row4_col0\" class=\"data row4 col0\" >8</td>\n",
       "                        <td id=\"T_3320d_row4_col1\" class=\"data row4 col1\" >$4.35</td>\n",
       "                        <td id=\"T_3320d_row4_col2\" class=\"data row4 col2\" >$34.80</td>\n",
       "            </tr>\n",
       "    </tbody></table>"
      ],
      "text/plain": [
       "<pandas.io.formats.style.Styler at 0x7f85e59493a0>"
      ]
     },
     "execution_count": 328,
     "metadata": {},
     "output_type": "execute_result"
    }
   ],
   "source": [
    "# Sort the above table by total purchase value in descending order\n",
    "total_purchase_value = popular_items_df.sort_values(\"Total Purchase Value\", ascending=False)\n",
    "\n",
    "profitable_items = total_purchase_value.loc[:,[\"Purchase Count\", \"Item Price\", \"Total Purchase Value\"]]\n",
    "\n",
    "# Create a value to add styling to the data to include percentage\n",
    "format_dict_8 = {'Item Price':'${0:,.2f}', 'Total Purchase Value':'${0:,.2f}'}\n",
    "\n",
    "# Display age demographics table and sort\n",
    "profitable_items.head(5).style.format(format_dict_8)"
   ]
  }
 ],
 "metadata": {
  "anaconda-cloud": {},
  "kernel_info": {
   "name": "python3"
  },
  "kernelspec": {
   "display_name": "Python 3",
   "language": "python",
   "name": "python3"
  },
  "language_info": {
   "codemirror_mode": {
    "name": "ipython",
    "version": 3
   },
   "file_extension": ".py",
   "mimetype": "text/x-python",
   "name": "python",
   "nbconvert_exporter": "python",
   "pygments_lexer": "ipython3",
   "version": "3.8.8"
  },
  "latex_envs": {
   "LaTeX_envs_menu_present": true,
   "autoclose": false,
   "autocomplete": true,
   "bibliofile": "biblio.bib",
   "cite_by": "apalike",
   "current_citInitial": 1,
   "eqLabelWithNumbers": true,
   "eqNumInitial": 1,
   "hotkeys": {
    "equation": "Ctrl-E",
    "itemize": "Ctrl-I"
   },
   "labels_anchors": false,
   "latex_user_defs": false,
   "report_style_numbering": false,
   "user_envs_cfg": false
  },
  "nteract": {
   "version": "0.2.0"
  }
 },
 "nbformat": 4,
 "nbformat_minor": 4
}
